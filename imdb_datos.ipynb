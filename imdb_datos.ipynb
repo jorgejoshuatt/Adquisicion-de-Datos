{
  "nbformat": 4,
  "nbformat_minor": 0,
  "metadata": {
    "colab": {
      "provenance": [],
      "authorship_tag": "ABX9TyN/rDm41lm+t4ENYyE7IuG1",
      "include_colab_link": true
    },
    "kernelspec": {
      "name": "python3",
      "display_name": "Python 3"
    },
    "language_info": {
      "name": "python"
    }
  },
  "cells": [
    {
      "cell_type": "markdown",
      "metadata": {
        "id": "view-in-github",
        "colab_type": "text"
      },
      "source": [
        "<a href=\"https://colab.research.google.com/github/jorgejoshuatt/Adquisicion-de-datos/blob/main/imdb_datos.ipynb\" target=\"_parent\"><img src=\"https://colab.research.google.com/assets/colab-badge.svg\" alt=\"Open In Colab\"/></a>"
      ]
    },
    {
      "cell_type": "code",
      "execution_count": null,
      "metadata": {
        "id": "0Yu4DuFhjj3d"
      },
      "outputs": [],
      "source": [
        "import requests\n",
        "import urllib.request\n",
        "import time\n",
        "from bs4 import BeautifulSoup\n",
        "\n",
        "import csv\n",
        "from datetime import datetime"
      ]
    },
    {
      "cell_type": "code",
      "source": [
        "#Define URL a descargar y hace la peticion HTTP\n",
        "url='https://www.imdb.com/search/title/?count=100&release_date=2021,2022&title_type=feature%27'\n",
        "response=requests.get(url)\n",
        "response.status_code"
      ],
      "metadata": {
        "colab": {
          "base_uri": "https://localhost:8080/"
        },
        "id": "GpQGeMQaj8vs",
        "outputId": "d387d1b6-d0fb-4d70-8387-edaf15033313"
      },
      "execution_count": null,
      "outputs": [
        {
          "output_type": "execute_result",
          "data": {
            "text/plain": [
              "200"
            ]
          },
          "metadata": {},
          "execution_count": 19
        }
      ]
    },
    {
      "cell_type": "code",
      "source": [
        "#Crea objeto BeautifulSoup para procesar HTML\n",
        "soup=BeautifulSoup(response.text, 'html.parser')\n",
        "\n",
        "#Obtener elementos de titulos\n",
        "elementos=soup.findAll('h3',{'class':'lister-item-header'})\n",
        "#elementos.get_text(separator=',')"
      ],
      "metadata": {
        "id": "5_8c0sWwlNEu"
      },
      "execution_count": null,
      "outputs": []
    },
    {
      "cell_type": "code",
      "source": [
        "#Recorrer los elementos de respuesta\n",
        "with open('imdb.csv','a') as archivo_csv:\n",
        "  writer=csv.writer(archivo_csv)\n",
        "  for e in elementos:\n",
        "    #El titulo de la pelicula esta dentro de un <a>\n",
        "    no=e.find('span',{'class':'lister-item-index unbold text-primary'}).next\n",
        "    titulo=e.find('a', recursive=False).next\n",
        "    anio=e.find('span',{'class':'lister-item-year text-muted unbold'}).next\n",
        "    print(no,titulo,anio)\n",
        "    \n",
        "    writer.writerow([no,titulo,anio])"
      ],
      "metadata": {
        "colab": {
          "base_uri": "https://localhost:8080/"
        },
        "id": "2mzOkPu9pK35",
        "outputId": "6b5df6a5-92f3-4a2a-ce33-e1d637d01f17"
      },
      "execution_count": null,
      "outputs": [
        {
          "output_type": "stream",
          "name": "stdout",
          "text": [
            "1. 龍族前傳 (2022– )\n",
            "2. 魔戒：力量之戒 (2022– )\n",
            "3. 律師女浩克 (2022– )\n",
            "4. 睡魔 (2022– )\n",
            "5. 不！ (2022)\n",
            "6. 義勇超人 (2022)\n",
            "7. 捍衛戰士：獨行俠 (2022)\n",
            "8. 最狂 Me Time (2022)\n",
            "9. 無聲回音 (2022)\n",
            "10. 子彈列車 (2022)\n",
            "11. 破案三人行 (2021– )\n",
            "12. Fall (2022)\n",
            "13. 貓王艾維斯 (2022)\n",
            "14. The Patient (2022)\n",
            "15. 終極戰士：獸獵者 (I) (2022)\n",
            "16. 到此一遊 (2022)\n",
            "17. 合夥人之路 (2022– )\n",
            "18. 世紀婚魘 (II) (2022)\n",
            "19. 孤兒怨2：最黑暗的過去 (2022)\n",
            "20. 三千年的渴望 (2022)\n",
            "21. 打卡獵人 (2022)\n",
            "22. Weird: The Al Yankovic Story (2022)\n",
            "23. 黑鳥 (2022)\n",
            "24. 木偶奇遇記 (I) (2022)\n",
            "25. 別擔心親愛的 (I) (2022)\n",
            "26. 雙軌人生 (2022)\n",
            "27. 人生切割術 (2022– )\n",
            "28. 獸 (I) (2022)\n",
            "29. 灰影人 (2022)\n",
            "30. 沼澤謀殺案 (2022)\n",
            "31. 闇黑電話 (2021)\n",
            "32. A League of Their Own (2022– )\n",
            "33. DC超級寵物軍團 (2022)\n",
            "34. The Bear (2022– )\n",
            "35. 媽的多重宇宙 (2022)\n",
            "36. Kærlighed for voksne (2022)\n",
            "37. 雷神索爾：愛與雷霆 (2022)\n",
            "38. Thirteen Lives (2022)\n",
            "39. 侏羅紀世界：統霸天下 (2022)\n",
            "40. 阿穆的生存之道 (2022– )\n",
            "41. X (II) (2022)\n",
            "42. 美國恐怖故事集 (2021– )\n",
            "43. 終極名單 (2022– )\n",
            "44. 克麗歐的紅色復仇 (2022– )\n",
            "45. The Suspect (2022– )\n",
            "46. 俄亥俄的魔鬼 (2022)\n",
            "47. Wednesday (2022– )\n",
            "48. 不良姐妹 (2022– )\n",
            "49. 七龍珠超：超級英雄 (2022)\n",
            "50. Ridley (2022– )\n",
            "51. 泰森傳奇 (2022)\n",
            "52. The Rehearsal (2022– )\n",
            "53. 戀戀同居假期 (2022)\n",
            "54. Liger (2022)\n",
            "55. 災後五日 (2022)\n",
            "56. 秘境探險 (2022)\n",
            "57. The Resort (2022– )\n",
            "58. 歡樂好聲音2 (2021)\n",
            "59. 蝙蝠俠 (2022)\n",
            "60. Little Demon (2022– )\n",
            "61. 蜘蛛人：無家日 (2021)\n",
            "62. 白噪音 (I) (2022)\n",
            "63. Hit: The First Case (2022)\n",
            "64. 北方人 (2022)\n",
            "65. 失落謎城 (2022)\n",
            "66. The Old Man (2022– )\n",
            "67. After Ever Happy (2022)\n",
            "68. 甘草披薩 (2021)\n",
            "69. Blonde (2022)\n",
            "70. Bodies Bodies Bodies (2022)\n",
            "71. Welcome to Wrexham (2022– )\n",
            "72. 紫心愛戀 (2022)\n",
            "73. 阿凡達：水之道 (2022)\n",
            "74. Honk for Jesus. Save Your Soul. (2022)\n",
            "75. Resident Alien (2021– )\n",
            "76. 再現之慾 (2022)\n",
            "77. 奇異博士2：失控多重宇宙 (2022)\n",
            "78. 巴斯光年 (2022)\n",
            "79. 戀愛好滋味 (2022)\n",
            "80. Tales of the Walking Dead (2022– )\n",
            "81. 1883 (2021–2022)\n",
            "82. 安道爾 (2022– )\n",
            "83. Reservation Dogs (2021– )\n",
            "84. 非常律師禹英禑 (2022)\n",
            "85. Sprung (2022– )\n",
            "86. 天堂的旗幟下 (2022)\n",
            "87. 沙丘 (2021)\n",
            "88. 歐比王肯諾比 (2022)\n",
            "89. 尼羅河謀殺案 (2022)\n",
            "90. Barbarian (2022)\n",
            "91. Karthikeya 2 (2022)\n",
            "92. Triangle of Sadness (2022)\n",
            "93. 白蓮花大飯店 (2021–2022)\n",
            "94. 雙雄起義 (2022)\n",
            "95. Hocus Pocus 2 (2022)\n",
            "96. 小小兵2：格魯的崛起 (2022)\n",
            "97. Vengeance (II) (2022)\n",
            "98. Tár (2022)\n",
            "99. 教父秘辛 (2022)\n",
            "100. 我是格魯特 (2022– )\n"
          ]
        }
      ]
    }
  ]
}