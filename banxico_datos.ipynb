{
  "nbformat": 4,
  "nbformat_minor": 0,
  "metadata": {
    "colab": {
      "provenance": [],
      "collapsed_sections": [],
      "authorship_tag": "ABX9TyOSIs8KaywrfR8N7BpD8T30",
      "include_colab_link": true
    },
    "kernelspec": {
      "name": "python3",
      "display_name": "Python 3"
    },
    "language_info": {
      "name": "python"
    }
  },
  "cells": [
    {
      "cell_type": "markdown",
      "metadata": {
        "id": "view-in-github",
        "colab_type": "text"
      },
      "source": [
        "<a href=\"https://colab.research.google.com/github/jorgejoshuatt/Adquisicion-de-datos/blob/main/banxico_datos.ipynb\" target=\"_parent\"><img src=\"https://colab.research.google.com/assets/colab-badge.svg\" alt=\"Open In Colab\"/></a>"
      ]
    },
    {
      "cell_type": "code",
      "execution_count": 29,
      "metadata": {
        "id": "ThwbE1KjuCEm"
      },
      "outputs": [],
      "source": [
        "import requests\n",
        "import urllib.request\n",
        "import time\n",
        "from bs4 import BeautifulSoup\n",
        "\n",
        "import csv\n",
        "from datetime import datetime,timezone"
      ]
    },
    {
      "cell_type": "code",
      "source": [
        "#Define URL a descargar y hace la peticion HTTP\n",
        "url='https://www.banxico.org.mx/tipcamb/tipCamIHAction.do?idioma=sp&fechaInicial=01/09/2022&fechaFinal=05/09/2022&salida=HTML'\n",
        "response=requests.get(url).text\n",
        "soup=BeautifulSoup(response)"
      ],
      "metadata": {
        "id": "B4zP2ZLwuMNr"
      },
      "execution_count": 9,
      "outputs": []
    },
    {
      "cell_type": "code",
      "source": [
        "tabla=soup.find('table')\n",
        "#tabla"
      ],
      "metadata": {
        "id": "YvUY_U6ewBbb"
      },
      "execution_count": 10,
      "outputs": []
    },
    {
      "cell_type": "code",
      "source": [
        "nombre_archivo='dolar_banxico_'+datetime.now().strftime(\"%Y%m%d_%H%M%S\")+\".csv\"\n",
        "print(nombre_archivo)"
      ],
      "metadata": {
        "colab": {
          "base_uri": "https://localhost:8080/"
        },
        "id": "CZKzKJNwAWlJ",
        "outputId": "d7c0fc08-caea-4c6c-9645-41a612ad3610"
      },
      "execution_count": 31,
      "outputs": [
        {
          "output_type": "stream",
          "name": "stdout",
          "text": [
            "dolar_banxico_20220907_174548.csv\n"
          ]
        }
      ]
    },
    {
      "cell_type": "code",
      "source": [
        "tablas = tabla.find_all(\"table\")\n",
        "datos = {'fecha':'', 'determinacion':'', 'publicacion':'', 'obligaciones':''}\n",
        "quitar = \"\\r\\n\\t\"\n",
        "nrenglones = len(tablas[1].find_all(\"tr\"))\n",
        "print(\"Numero de renglones: \",nrenglones)\n",
        "with open(nombre_archivo, 'a') as archivo_csv:\n",
        "  writer = csv.writer(archivo_csv)\n",
        "  writer.writerow(['fecha','determinacion','publicacion', 'obligaciones'])\n",
        "  for r in range(0, nrenglones):\n",
        "    for t in range(1,5):\n",
        "      renglones = tablas[t].find_all(\"tr\")\n",
        "      renglon = renglones[r]\n",
        "      celda = renglon.find('td')\n",
        "      textocelda = celda.text.rstrip()\n",
        "      for x in range(len(quitar)):\n",
        "        textocelda = textocelda.replace(quitar[x],\"\")\n",
        "      if t == 1:\n",
        "        datos['fecha'] = textocelda\n",
        "      if t == 2:\n",
        "        datos['determinacion'] = textocelda\n",
        "      if t == 3:\n",
        "        datos['publicacion'] = textocelda\n",
        "      if t == 4:\n",
        "        datos['obligaciones'] = textocelda\n",
        "    print(r, datos)\n",
        "    writer.writerow([datos['fecha'],datos['determinacion'],datos['publicacion'], datos['obligaciones']])"
      ],
      "metadata": {
        "colab": {
          "base_uri": "https://localhost:8080/"
        },
        "id": "bbkPH2Rd4DT7",
        "outputId": "03f7d8c0-7f2a-462b-83f3-0def9618c8a2"
      },
      "execution_count": 34,
      "outputs": [
        {
          "output_type": "stream",
          "name": "stdout",
          "text": [
            "Numero de renglones:  5\n",
            "0 {'fecha': '05/09/2022', 'determinacion': '19.9620', 'publicacion': '19.9753', 'obligaciones': '20.2473'}\n",
            "1 {'fecha': '04/09/2022', 'determinacion': 'N/E', 'publicacion': 'N/E', 'obligaciones': '20.2473'}\n",
            "2 {'fecha': '03/09/2022', 'determinacion': 'N/E', 'publicacion': 'N/E', 'obligaciones': '20.2473'}\n",
            "3 {'fecha': '02/09/2022', 'determinacion': '19.9753', 'publicacion': '20.2473', 'obligaciones': '20.0962'}\n",
            "4 {'fecha': '01/09/2022', 'determinacion': '20.2473', 'publicacion': '20.0962', 'obligaciones': '20.1465'}\n"
          ]
        }
      ]
    }
  ]
}